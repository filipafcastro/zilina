{
  "nbformat": 4,
  "nbformat_minor": 5,
  "metadata": {
    "kernelspec": {
      "display_name": "Python 3",
      "language": "python",
      "name": "python3"
    },
    "language_info": {
      "codemirror_mode": {
        "name": "ipython",
        "version": 3
      },
      "file_extension": ".py",
      "mimetype": "text/x-python",
      "name": "python",
      "nbconvert_exporter": "python",
      "pygments_lexer": "ipython3",
      "version": "3.7.10"
    },
    "colab": {
      "name": "traffic_notraffic.ipynb",
      "provenance": [],
      "collapsed_sections": [],
      "toc_visible": true
    }
  },
  "cells": [
    {
      "cell_type": "markdown",
      "metadata": {
        "id": "9a996f16"
      },
      "source": [
        "# BICYCLE COUNTER AT BERG\n",
        "Number of Bike Passes to Slovakia and Austria at the Berg in 2016 by Time and Date of Transit\n",
        "\n",
        "## The problem\n",
        "The mayors of Bratislava and Berg agreed that there will be maintenance in the main road between the two cities somewhere next year. However, it needs to be on a season where it does not interrupt the daily commuters. Can you do an analysis and identify the best time to do the maintenance?\n",
        "\n",
        "The mayors have a few specific times in mind and they would like to know if there is going to be people commuting in that road."
      ],
      "id": "9a996f16"
    },
    {
      "cell_type": "code",
      "metadata": {
        "id": "0005ca6f"
      },
      "source": [
        "from glob import glob\n",
        "import pandas as pd\n",
        "import numpy as np\n",
        "import seaborn as sns\n",
        "import matplotlib.pyplot as plt"
      ],
      "id": "0005ca6f",
      "execution_count": null,
      "outputs": []
    },
    {
      "cell_type": "markdown",
      "metadata": {
        "id": "flush-indicator"
      },
      "source": [
        "## Data Loading"
      ],
      "id": "flush-indicator"
    },
    {
      "cell_type": "code",
      "metadata": {
        "id": "c950c7c3"
      },
      "source": [
        "df = pd.read_csv(\"Berg_bicycle_counter_2016_2019.csv\")\n",
        "df[\"date\"] = pd.to_datetime(df[\"date\"])\n",
        "\n",
        "#This one is for you data from 2016 - 2018\n",
        "df_train = df[df[\"date\"] < pd.Timestamp(2019,1,1)].copy()\n",
        "\n",
        "#This is \"future\" data. 2019 is the year that will be maintenance. Use this data only for testing your algorithms\n",
        "df_test_filtered = df[df[\"date\"] >= pd.Timestamp(2019,1,1)].sample(100)\n",
        "df_test = df_test_filtered[[\"date\", \"is_holiday\", \"tavg\", \"wspd\", \"pres\"]].copy()\n",
        "y_true = df_test_filtered[[\"hastrip\"]]"
      ],
      "id": "c950c7c3",
      "execution_count": null,
      "outputs": []
    },
    {
      "cell_type": "code",
      "metadata": {
        "id": "6714c783"
      },
      "source": [
        "df_train.head(20)"
      ],
      "id": "6714c783",
      "execution_count": null,
      "outputs": []
    },
    {
      "cell_type": "markdown",
      "metadata": {
        "id": "b03785bd"
      },
      "source": [
        "### Dataset overview\n",
        "* \"date\" -> year, month, day, hour\n",
        "* \"Do Slovenska\" -> Number of bicycle trips to Slovakia\n",
        "* \"Do Rakuska\" -> Number of bicycle trips to Austria\n",
        "* \"hastrip\" -> Flag that shows if there was any trip on that time (1 is yes and 0 is no) \n",
        "* \"is_holiday\" -> Flag that shows if the given day was an holiday in either Austria or Slovakia (1 is yes and 0 is no) \n",
        "* \"Hradza Berg\" -> Total of bicycle trips\n",
        "* \"tavg\" -> average temperature on that day\n",
        "* \"wspd\" -> average windspeed on that day\n",
        "* \"pres\" -> average air pressure on that day"
      ],
      "id": "b03785bd"
    },
    {
      "cell_type": "code",
      "metadata": {
        "id": "2d2404e5"
      },
      "source": [
        "#Example of dates that the mayors will ask\n",
        "df_test.head(10)"
      ],
      "id": "2d2404e5",
      "execution_count": null,
      "outputs": []
    },
    {
      "cell_type": "markdown",
      "metadata": {
        "id": "bigger-serbia"
      },
      "source": [
        "## Data Manipulation"
      ],
      "id": "bigger-serbia"
    },
    {
      "cell_type": "code",
      "metadata": {
        "id": "9249960b"
      },
      "source": [
        "print(\"How many NANs do we have on training set? \", df_train.isna().sum())\n",
        "print(\"-\"*100)\n",
        "print(\"How many NANs do we have on test set? \", df_test.isna().sum())"
      ],
      "id": "9249960b",
      "execution_count": null,
      "outputs": []
    },
    {
      "cell_type": "code",
      "metadata": {
        "id": "eca7edee"
      },
      "source": [
        "#we have NANs and that's not good!\n",
        "df_train = df_train.dropna(axis=0)"
      ],
      "id": "eca7edee",
      "execution_count": null,
      "outputs": []
    },
    {
      "cell_type": "code",
      "metadata": {
        "id": "HCYl2cSM-NT_"
      },
      "source": [
        "df_train.head(5)"
      ],
      "id": "HCYl2cSM-NT_",
      "execution_count": null,
      "outputs": []
    },
    {
      "cell_type": "code",
      "metadata": {
        "id": "476c72a0"
      },
      "source": [
        "#Data Transformation Example\n",
        "df_train['day'] = df_train.date.dt.day\n",
        "df_train['month'] = df_train.date.dt.month\n",
        "df_train['year'] = df_train.date.dt.year\n",
        "df_train['hour'] = df_train.date.dt.hour\n",
        "df_train['weekday'] = df_train.date.dt.weekday\n",
        "\n",
        "df_test['day'] = df_test.date.dt.day\n",
        "df_test['month'] = df_test.date.dt.month\n",
        "df_test['year'] = df_test.date.dt.year\n",
        "df_test['hour'] = df_test.date.dt.hour\n",
        "df_test['weekday'] = df_test.date.dt.weekday"
      ],
      "id": "476c72a0",
      "execution_count": null,
      "outputs": []
    },
    {
      "cell_type": "code",
      "metadata": {
        "id": "MdaafPGC-S5V"
      },
      "source": [
        "df_train.head(5)"
      ],
      "id": "MdaafPGC-S5V",
      "execution_count": null,
      "outputs": []
    },
    {
      "cell_type": "markdown",
      "metadata": {
        "id": "chemical-possession"
      },
      "source": [
        "## Exploratory Data Analysis (EDA)"
      ],
      "id": "chemical-possession"
    },
    {
      "cell_type": "code",
      "metadata": {
        "id": "9b601de4"
      },
      "source": [
        "#Data Analysis example\n",
        "#Example 1\n",
        "plt.figure(figsize=(10,5))\n",
        "plt.title(\"Boxplot counting the numbers of hours that have a trip\")\n",
        "sns.boxplot(x=\"month\", y=\"Hradza Berg\", data=df_train)"
      ],
      "id": "9b601de4",
      "execution_count": null,
      "outputs": []
    },
    {
      "cell_type": "code",
      "metadata": {
        "id": "auburn-stone"
      },
      "source": [
        "#Example 2\n",
        "df_grouped_hour = df_train.groupby([\"month\"]).sum().reset_index()\n",
        "plt.figure(figsize=(10,5))\n",
        "plt.title(\"Pointplot counting the numbers of hours that have a trip\")\n",
        "sns.pointplot(x=\"month\", y=\"Hradza Berg\", data=df_grouped_hour)"
      ],
      "id": "auburn-stone",
      "execution_count": null,
      "outputs": []
    },
    {
      "cell_type": "code",
      "metadata": {
        "id": "conventional-clause"
      },
      "source": [
        "# Example 3\n",
        "plt.figure()\n",
        "sns.violinplot(x=\"hastrip\", y=\"tavg\", data=df_train, inner=\"quart\")"
      ],
      "id": "conventional-clause",
      "execution_count": null,
      "outputs": []
    },
    {
      "cell_type": "code",
      "metadata": {
        "id": "superb-italic"
      },
      "source": [
        "# Example 4\n",
        "plt.figure()\n",
        "ax = sns.barplot(data=df_train, x='is_holiday', y=\"Hradza Berg\")"
      ],
      "id": "superb-italic",
      "execution_count": null,
      "outputs": []
    },
    {
      "cell_type": "markdown",
      "metadata": {
        "id": "prescribed-scoop"
      },
      "source": [
        "### 🤔 Can you think of additional analysis that would be useful to present to the Mayor? Add them here!"
      ],
      "id": "prescribed-scoop"
    },
    {
      "cell_type": "code",
      "metadata": {
        "id": "athletic-hazard"
      },
      "source": [
        ""
      ],
      "id": "athletic-hazard",
      "execution_count": null,
      "outputs": []
    },
    {
      "cell_type": "markdown",
      "metadata": {
        "id": "alpine-rebecca"
      },
      "source": [
        "## Train and evaluate an algorithm"
      ],
      "id": "alpine-rebecca"
    },
    {
      "cell_type": "code",
      "metadata": {
        "id": "vmcezPU7_6RN"
      },
      "source": [
        "df_train.head(5)"
      ],
      "id": "vmcezPU7_6RN",
      "execution_count": null,
      "outputs": []
    },
    {
      "cell_type": "code",
      "metadata": {
        "id": "41d85e71"
      },
      "source": [
        "# Prepare the data\n",
        "columns_used = [\"month\", \"hour\", \"tavg\", \"pres\"]\n",
        "X_train = df_train[columns_used]\n",
        "y_train = df_train[\"hastrip\"]\n",
        "\n",
        "# Prepare the model\n",
        "from sklearn.linear_model import LogisticRegression\n",
        "model = LogisticRegression()\n",
        "model.fit(X_train, y_train)"
      ],
      "id": "41d85e71",
      "execution_count": null,
      "outputs": []
    },
    {
      "cell_type": "markdown",
      "metadata": {
        "id": "HMCcWFy5AfXA"
      },
      "source": [
        "Logistic regression: https://scikit-learn.org/stable/modules/generated/sklearn.linear_model.LogisticRegression.html"
      ],
      "id": "HMCcWFy5AfXA"
    },
    {
      "cell_type": "code",
      "metadata": {
        "id": "717c0d0b"
      },
      "source": [
        "# Test on the dates mayor gave us\n",
        "X_test = df_test[columns_used]\n",
        "\n",
        "y_pred = model.predict(X_test)"
      ],
      "id": "717c0d0b",
      "execution_count": null,
      "outputs": []
    },
    {
      "cell_type": "code",
      "metadata": {
        "id": "f38f4e20"
      },
      "source": [
        "# Evaluate the results\n",
        "from sklearn.metrics import confusion_matrix, plot_confusion_matrix, accuracy_score\n",
        "acc_score = accuracy_score(y_true, y_pred)\n",
        "print(\"Accuracy: \", acc_score*100)\n",
        "plot_confusion_matrix(model, X_test, y_true, values_format = 'd', cmap=plt.cm.Blues)"
      ],
      "id": "f38f4e20",
      "execution_count": null,
      "outputs": []
    },
    {
      "cell_type": "markdown",
      "metadata": {
        "id": "closed-cause"
      },
      "source": [
        "### 🤔 How can you improve your model so that the Mayor trusts you?\n",
        "\n",
        "Here are some tips:\n",
        "\n",
        "+ Use a more powerful model (you can find several ones [here](https://scikit-learn.org/stable/modules/classes.html#module-sklearn.ensemble))\n",
        "+ Add more features to your model (for instance, `is_holiday`)\n",
        "+ Normalize your features (check [this](https://scikit-learn.org/stable/modules/generated/sklearn.preprocessing.normalize.html))"
      ],
      "id": "closed-cause"
    }
  ]
}