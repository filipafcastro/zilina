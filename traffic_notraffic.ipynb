{
 "cells": [
  {
   "cell_type": "markdown",
   "id": "9a996f16",
   "metadata": {},
   "source": [
    "# BICYCLE COUNTER AT BERG\n",
    "Number of Bike Passes to Slovakia and Austria at the Berg in 2016 by Time and Date of Transit\n",
    "\n",
    "## The problem\n",
    "The mayors of Bratislava and Berg agreed that there will be maintenance in the main road between the two cities somewhere next year. However, it needs to be on a season where it does not interrupt the daily commuters. Can you do an analysis and identify the best time to do the maintenance?\n",
    "\n",
    "The mayors have a few specific times in mind and they would like to know if there is going to be people commuting in that road."
   ]
  },
  {
   "cell_type": "code",
   "execution_count": null,
   "id": "0005ca6f",
   "metadata": {},
   "outputs": [],
   "source": [
    "from glob import glob\n",
    "import pandas as pd\n",
    "import numpy as np\n",
    "import seaborn as sns\n",
    "import matplotlib.pyplot as plt"
   ]
  },
  {
   "cell_type": "markdown",
   "id": "flush-indicator",
   "metadata": {},
   "source": [
    "## Data Loading"
   ]
  },
  {
   "cell_type": "code",
   "execution_count": null,
   "id": "c950c7c3",
   "metadata": {},
   "outputs": [],
   "source": [
    "df = pd.read_csv(\"Berg_bicycle_counter_2016_2019.csv\")\n",
    "df[\"date\"] = pd.to_datetime(df[\"date\"])\n",
    "\n",
    "#This one is for you data from 2016 - 2018\n",
    "df_train = df[df[\"date\"] < pd.Timestamp(2019,1,1)].copy()\n",
    "\n",
    "#This is \"future\" data. 2019 is the year that will be maintenance. Use this data only for testing your algorithms\n",
    "df_test_filtered = df[df[\"date\"] >= pd.Timestamp(2019,1,1)].sample(100)\n",
    "df_test = df_test_filtered[[\"date\", \"is_holiday\", \"tavg\", \"wspd\", \"pres\"]].copy()\n",
    "y_true = df_test_filtered[[\"hastrip\"]]"
   ]
  },
  {
   "cell_type": "code",
   "execution_count": null,
   "id": "6714c783",
   "metadata": {},
   "outputs": [],
   "source": [
    "df_train.head(20)"
   ]
  },
  {
   "cell_type": "markdown",
   "id": "b03785bd",
   "metadata": {},
   "source": [
    "### Dataset overview\n",
    "* \"date\" -> year, month, day, hour\n",
    "* \"Do Slovenska\" -> Number of bicycle trips to Slovakia\n",
    "* \"Do Rakuska\" -> Number of bicycle trips to Austria\n",
    "* \"hastrip\" -> Flag that shows if there was any trip on that time (1 is yes and 0 is no) \n",
    "* \"is_holiday\" -> Flag that shows if the given day was an holiday in either Austria or Slovakia (1 is yes and 0 is no) \n",
    "* \"Hradza Berg\" -> Total of bicycle trips\n",
    "* \"tavg\" -> average temperature on that day\n",
    "* \"wspd\" -> average windspeed on that day\n",
    "* \"pres\" -> average air pressure on that day"
   ]
  },
  {
   "cell_type": "code",
   "execution_count": null,
   "id": "2d2404e5",
   "metadata": {},
   "outputs": [],
   "source": [
    "#Example of dates that the mayors will ask\n",
    "df_test.head(10)"
   ]
  },
  {
   "cell_type": "code",
   "execution_count": null,
   "id": "9249960b",
   "metadata": {},
   "outputs": [],
   "source": [
    "print(\"How many NANs do we have on training set? \", df_train.isna().sum())\n",
    "print(\"-\"*100)\n",
    "print(\"How many NANs do we have on test set? \", df_test.isna().sum())"
   ]
  },
  {
   "cell_type": "markdown",
   "id": "bigger-serbia",
   "metadata": {},
   "source": [
    "## Data Manipulation"
   ]
  },
  {
   "cell_type": "code",
   "execution_count": null,
   "id": "eca7edee",
   "metadata": {},
   "outputs": [],
   "source": [
    "#Data Manipulation\n",
    "#we have NANs and that's not good!\n",
    "df_train = df_train.dropna(axis=0)"
   ]
  },
  {
   "cell_type": "code",
   "execution_count": null,
   "id": "476c72a0",
   "metadata": {},
   "outputs": [],
   "source": [
    "#Data Transformation Example\n",
    "df_train['day'] = df_train.date.dt.day\n",
    "df_train['month'] = df_train.date.dt.month\n",
    "df_train['year'] = df_train.date.dt.year\n",
    "df_train['hour'] = df_train.date.dt.hour\n",
    "df_train['weekday'] = df_train.date.dt.weekday"
   ]
  },
  {
   "cell_type": "markdown",
   "id": "chemical-possession",
   "metadata": {},
   "source": [
    "## Exploratory Data Analysis (EDA)"
   ]
  },
  {
   "cell_type": "code",
   "execution_count": null,
   "id": "9b601de4",
   "metadata": {},
   "outputs": [],
   "source": [
    "#Data Analysis example\n",
    "#Example 1\n",
    "plt.figure(figsize=(10,5))\n",
    "plt.title(\"Boxplot counting the numbers of hours that have a trip\")\n",
    "sns.boxplot(x=\"month\", y=\"Hradza Berg\", data=df_train)"
   ]
  },
  {
   "cell_type": "code",
   "execution_count": null,
   "id": "auburn-stone",
   "metadata": {},
   "outputs": [],
   "source": [
    "#Example 2\n",
    "df_grouped_hour = df_train.groupby([\"month\"]).sum().reset_index()\n",
    "plt.figure(figsize=(10,5))\n",
    "plt.title(\"Pointplot counting the numbers of hours that have a trip\")\n",
    "sns.pointplot(x=\"month\", y=\"Hradza Berg\", data=df_grouped_hour)"
   ]
  },
  {
   "cell_type": "code",
   "execution_count": null,
   "id": "conventional-clause",
   "metadata": {},
   "outputs": [],
   "source": [
    "# Example 3\n",
    "plt.figure()\n",
    "sns.violinplot(x=\"hastrip\", y=\"tavg\", data=df_train, inner=\"quart\")"
   ]
  },
  {
   "cell_type": "code",
   "execution_count": null,
   "id": "superb-italic",
   "metadata": {},
   "outputs": [],
   "source": [
    "# Example 4\n",
    "plt.figure()\n",
    "ax = sns.barplot(data=df_train, x='is_holiday', y=\"Hradza Berg\")"
   ]
  },
  {
   "cell_type": "markdown",
   "id": "prescribed-scoop",
   "metadata": {},
   "source": [
    "### 🤔 Can you think of additional analysis that would be useful to present to the Mayor? Add them here!"
   ]
  },
  {
   "cell_type": "code",
   "execution_count": null,
   "id": "athletic-hazard",
   "metadata": {},
   "outputs": [],
   "source": []
  },
  {
   "cell_type": "markdown",
   "id": "alpine-rebecca",
   "metadata": {},
   "source": [
    "## Train an algorithm"
   ]
  },
  {
   "cell_type": "code",
   "execution_count": null,
   "id": "41d85e71",
   "metadata": {},
   "outputs": [],
   "source": [
    "# Prepare the data\n",
    "columns_used = [\"month\", \"hour\", \"tavg\", \"pres\"]\n",
    "X_train = df_train[columns_used]\n",
    "y_train = df_train[\"hastrip\"]\n",
    "\n",
    "# Prepare the model\n",
    "from sklearn.linear_model import LogisticRegression\n",
    "model = LogisticRegression()\n",
    "model.fit(X_train, y_train)"
   ]
  },
  {
   "cell_type": "code",
   "execution_count": null,
   "id": "717c0d0b",
   "metadata": {},
   "outputs": [],
   "source": [
    "# Test on the dates mayor gave us\n",
    "df_test['day'] = df_test.date.dt.day\n",
    "df_test['month'] = df_test.date.dt.month\n",
    "df_test['year'] = df_test.date.dt.year\n",
    "df_test['hour'] = df_test.date.dt.hour\n",
    "df_test['weekday'] = df_test.date.dt.weekday\n",
    "X_test = df_test[columns_used]\n",
    "\n",
    "y_pred = model.predict(X_test)"
   ]
  },
  {
   "cell_type": "code",
   "execution_count": null,
   "id": "f38f4e20",
   "metadata": {},
   "outputs": [],
   "source": [
    "# Evaluate the results\n",
    "\n",
    "from sklearn.metrics import confusion_matrix, plot_confusion_matrix, accuracy_score\n",
    "acc_score = accuracy_score(y_true, y_pred)\n",
    "print(\"Accuracy: \", acc_score*100)\n",
    "plot_confusion_matrix(model, X_test, y_true, values_format = 'd', cmap=plt.cm.Blues)"
   ]
  },
  {
   "cell_type": "markdown",
   "id": "closed-cause",
   "metadata": {},
   "source": [
    "### 🤔 How can you improve your model so that the Mayor trusts you?\n",
    "\n",
    "Here are some tips:\n",
    "\n",
    "+ Use a more powerful model (you can find several ones [here](https://scikit-learn.org/stable/modules/classes.html#module-sklearn.ensemble))\n",
    "+ Add more features to your model (for instance, `is_holiday`)\n",
    "+ Normalize your features (check [this](https://scikit-learn.org/stable/modules/generated/sklearn.preprocessing.normalize.html))"
   ]
  }
 ],
 "metadata": {
  "kernelspec": {
   "display_name": "Python 3",
   "language": "python",
   "name": "python3"
  },
  "language_info": {
   "codemirror_mode": {
    "name": "ipython",
    "version": 3
   },
   "file_extension": ".py",
   "mimetype": "text/x-python",
   "name": "python",
   "nbconvert_exporter": "python",
   "pygments_lexer": "ipython3",
   "version": "3.7.10"
  }
 },
 "nbformat": 4,
 "nbformat_minor": 5
}
